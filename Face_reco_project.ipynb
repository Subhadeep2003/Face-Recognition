{
 "cells": [
  {
   "cell_type": "code",
   "execution_count": 1,
   "id": "cb01a93d-7907-4e70-88ad-25d62472ad9f",
   "metadata": {},
   "outputs": [
    {
     "name": "stdout",
     "output_type": "stream",
     "text": [
      "Requirement already satisfied: cmake in d:\\downloads\\python3.11\\lib\\site-packages (3.29.2)\n",
      "Note: you may need to restart the kernel to use updated packages.\n"
     ]
    },
    {
     "name": "stderr",
     "output_type": "stream",
     "text": [
      "DEPRECATION: Loading egg at d:\\downloads\\python3.11\\lib\\site-packages\\vboxapi-1.0-py3.11.egg is deprecated. pip 24.3 will enforce this behaviour change. A possible replacement is to use pip for package installation.. Discussion can be found at https://github.com/pypa/pip/issues/12330\n"
     ]
    }
   ],
   "source": [
    "pip install cmake"
   ]
  },
  {
   "cell_type": "code",
   "execution_count": 2,
   "id": "9b5ff0b3-3c68-4510-bfc3-68719986eeba",
   "metadata": {},
   "outputs": [
    {
     "name": "stdout",
     "output_type": "stream",
     "text": [
      "Requirement already satisfied: dlib in d:\\downloads\\python3.11\\lib\\site-packages (19.24.1)\n",
      "Note: you may need to restart the kernel to use updated packages.\n"
     ]
    },
    {
     "name": "stderr",
     "output_type": "stream",
     "text": [
      "DEPRECATION: Loading egg at d:\\downloads\\python3.11\\lib\\site-packages\\vboxapi-1.0-py3.11.egg is deprecated. pip 24.3 will enforce this behaviour change. A possible replacement is to use pip for package installation.. Discussion can be found at https://github.com/pypa/pip/issues/12330\n"
     ]
    }
   ],
   "source": [
    "pip install dlib"
   ]
  },
  {
   "cell_type": "code",
   "execution_count": 3,
   "id": "212eecb0-4514-4deb-8967-5423a9d0e6af",
   "metadata": {},
   "outputs": [
    {
     "name": "stdout",
     "output_type": "stream",
     "text": [
      "3.11.2 (tags/v3.11.2:878ead1, Feb  7 2023, 16:38:35) [MSC v.1934 64 bit (AMD64)]\n"
     ]
    }
   ],
   "source": [
    "import sys\n",
    "print(sys.version)"
   ]
  },
  {
   "cell_type": "code",
   "execution_count": 4,
   "id": "058cbe2b-7e13-4405-a2ee-3f5c87ea4fe4",
   "metadata": {},
   "outputs": [
    {
     "data": {
      "text/plain": [
       "'d:\\\\Face_reco_project'"
      ]
     },
     "execution_count": 4,
     "metadata": {},
     "output_type": "execute_result"
    }
   ],
   "source": [
    "pwd"
   ]
  },
  {
   "cell_type": "code",
   "execution_count": 5,
   "id": "ade5aa5f-7c25-4ec5-b8dc-2937329c70d1",
   "metadata": {},
   "outputs": [
    {
     "name": "stdout",
     "output_type": "stream",
     "text": [
      "Processing d:\\face_reco_project\\dlib-19.24.1-cp311-cp311-win_amd64.whl\n",
      "Note: you may need to restart the kernel to use updated packages.\n"
     ]
    },
    {
     "name": "stderr",
     "output_type": "stream",
     "text": [
      "WARNING: Requirement 'dlib-19.24.1-cp311-cp311-win_amd64.whl' looks like a filename, but the file does not exist\n",
      "DEPRECATION: Loading egg at d:\\downloads\\python3.11\\lib\\site-packages\\vboxapi-1.0-py3.11.egg is deprecated. pip 24.3 will enforce this behaviour change. A possible replacement is to use pip for package installation.. Discussion can be found at https://github.com/pypa/pip/issues/12330\n",
      "ERROR: Could not install packages due to an OSError: [Errno 2] No such file or directory: 'D:\\\\Face_reco_project\\\\dlib-19.24.1-cp311-cp311-win_amd64.whl'\n",
      "\n"
     ]
    }
   ],
   "source": [
    "pip install dlib-19.24.1-cp311-cp311-win_amd64.whl"
   ]
  },
  {
   "cell_type": "code",
   "execution_count": 6,
   "id": "16b8ef41-43a5-43da-b15c-fd1dd55e1224",
   "metadata": {},
   "outputs": [
    {
     "name": "stdout",
     "output_type": "stream",
     "text": [
      "Requirement already satisfied: face-recognition in d:\\downloads\\python3.11\\lib\\site-packages (1.3.0)\n",
      "Requirement already satisfied: face-recognition-models>=0.3.0 in d:\\downloads\\python3.11\\lib\\site-packages (from face-recognition) (0.3.0)\n",
      "Requirement already satisfied: Click>=6.0 in d:\\downloads\\python3.11\\lib\\site-packages (from face-recognition) (8.1.3)\n",
      "Requirement already satisfied: dlib>=19.7 in d:\\downloads\\python3.11\\lib\\site-packages (from face-recognition) (19.24.1)\n",
      "Requirement already satisfied: numpy in d:\\downloads\\python3.11\\lib\\site-packages (from face-recognition) (1.24.2)\n",
      "Requirement already satisfied: Pillow in d:\\downloads\\python3.11\\lib\\site-packages (from face-recognition) (10.0.0)\n",
      "Requirement already satisfied: colorama in d:\\downloads\\python3.11\\lib\\site-packages (from Click>=6.0->face-recognition) (0.4.6)\n",
      "Note: you may need to restart the kernel to use updated packages.\n"
     ]
    },
    {
     "name": "stderr",
     "output_type": "stream",
     "text": [
      "DEPRECATION: Loading egg at d:\\downloads\\python3.11\\lib\\site-packages\\vboxapi-1.0-py3.11.egg is deprecated. pip 24.3 will enforce this behaviour change. A possible replacement is to use pip for package installation.. Discussion can be found at https://github.com/pypa/pip/issues/12330\n"
     ]
    }
   ],
   "source": [
    "pip install face-recognition"
   ]
  },
  {
   "cell_type": "code",
   "execution_count": 7,
   "id": "7127a4f1-eb14-40c2-854d-cd1717335a9e",
   "metadata": {},
   "outputs": [],
   "source": [
    "import cv2\n",
    "import numpy as np\n",
    "import face_recognition\n",
    "import os\n",
    "from datetime import datetime\n",
    "import pickle\n",
    "from flask import Flask, request, render_template"
   ]
  },
  {
   "cell_type": "code",
   "execution_count": 8,
   "id": "6d1f69f6-37fd-44d4-896a-d6cb13346540",
   "metadata": {},
   "outputs": [],
   "source": [
    "pp = Flask(__name__)\n",
    "\n",
    "def load_model():\n",
    "    with open('D://face rec project//face recognition//face recognition//attendance.pkl', 'rb') as f:\n",
    "        model = pickle.load(f)\n",
    "    return model\n",
    "\n",
    "def faceencoding(images):\n",
    "    encodinglist = []\n",
    "    for img in images:\n",
    "        img = cv2.cvtColor(img, cv2.COLOR_BGR2RGB)\n",
    "        encode = face_recognition.face_encodings(img)[0]\n",
    "        encodinglist.append(encode)\n",
    "    return encodinglist\n"
   ]
  },
  {
   "cell_type": "code",
   "execution_count": 9,
   "id": "3f4bf87c-b599-4ead-8fc8-e4329d27ba1d",
   "metadata": {},
   "outputs": [],
   "source": [
    "def is_entry_exists(name):\n",
    "    with open('D://face rec project//face recognition//face recognition//att.csv', 'r') as f:\n",
    "        for line in f:\n",
    "            entry = line.split(',')\n",
    "            if entry[0] == name:\n",
    "                return True\n",
    "    return False\n",
    "\n",
    "def attendance(name):\n",
    "    if not is_entry_exists(name):\n",
    "        with open('D://face rec project//face recognition//face recognition//att.csv', 'a') as f:\n",
    "            time_row = datetime.now()\n",
    "            tstr = time_row.strftime('%H:%M:%S')\n",
    "            dstr = time_row.strftime('%d/%m/%y')\n",
    "            f.write(f'{name},{tstr},{dstr}\\n')\n"
   ]
  },
  {
   "cell_type": "code",
   "execution_count": 10,
   "id": "d1803131-b3c4-4759-8098-ca3c1fd6676e",
   "metadata": {},
   "outputs": [
    {
     "name": "stdout",
     "output_type": "stream",
     "text": [
      "['Eileen.jpeg', 'Papai.png', 'Pradip.png', 'Raja.jpeg', 'Tapan Mukherjee.jpeg']\n"
     ]
    }
   ],
   "source": [
    " path = 'D://face rec project//face recognition//face recognition//photos'\n",
    "\n",
    "images = []\n",
    "personname = []\n",
    "mylist = os.listdir(path)\n",
    "print(mylist)"
   ]
  },
  {
   "cell_type": "code",
   "execution_count": 11,
   "id": "dc3fa9e3-97b9-4d01-ac4f-f325028413cb",
   "metadata": {},
   "outputs": [],
   "source": [
    "def faceencoding(images):\n",
    "    encodinglist = []\n",
    "    for img in images:\n",
    "        img = cv2.cvtColor(img, cv2.COLOR_BGR2RGB)\n",
    "        face_encodings = face_recognition.face_encodings(img)\n",
    "        if len(face_encodings) > 0:\n",
    "            encode = face_encodings[0]\n",
    "            encodinglist.append(encode)\n",
    "    return encodinglist"
   ]
  },
  {
   "cell_type": "code",
   "execution_count": 12,
   "id": "86136e87-83c9-4c08-9442-94370c2c56a4",
   "metadata": {},
   "outputs": [
    {
     "name": "stdout",
     "output_type": "stream",
     "text": [
      "['Eileen', 'Papai', 'Pradip', 'Raja', 'Tapan Mukherjee']\n"
     ]
    }
   ],
   "source": [
    "for i in mylist:\n",
    "    current_image = cv2.imread(f'{path}/{i}')\n",
    "    images.append(current_image)\n",
    "    personname.append(os.path.splitext(i)[0])\n",
    "print(personname)\n",
    "encodelistknown = faceencoding(images)"
   ]
  },
  {
   "cell_type": "code",
   "execution_count": 13,
   "id": "ae9ad033-d2ec-4888-aba0-6afcd58aaaf0",
   "metadata": {},
   "outputs": [],
   "source": [
    "cap = cv2.VideoCapture(0)\n",
    "while True:\n",
    "        ret, frame = cap.read()\n",
    "        small_frame = cv2.resize(frame, (0, 0), None, 0.25, 0.25)\n",
    "        small_frame = cv2.cvtColor(small_frame, cv2.COLOR_BGR2RGB)\n",
    "        face_locations = face_recognition.face_locations(small_frame)\n",
    "        face_encodings = face_recognition.face_encodings(small_frame, face_locations)\n",
    "        names_detected = []\n",
    "        for face_encoding, face_location in zip(face_encodings, face_locations):\n",
    "            matches = face_recognition.compare_faces(encodelistknown, face_encoding)\n",
    "            face_distances = face_recognition.face_distance(encodelistknown, face_encoding)\n",
    "            best_match_index = np.argmin(face_distances)\n",
    "            if matches[best_match_index]:\n",
    "                name = personname[best_match_index].upper()\n",
    "                names_detected.append(name)\n",
    "                top, right, bottom, left = face_location\n",
    "                top *= 4\n",
    "                right *= 4\n",
    "                bottom *= 4\n",
    "                left *= 4\n",
    "                cv2.rectangle(frame, (left, top), (right, bottom), (0, 255, 0), 2)\n",
    "                cv2.rectangle(frame, (left, bottom - 35), (right, bottom), (0, 255, 0), cv2.FILLED)\n",
    "                cv2.putText(frame, name, (left + 6, bottom - 6), cv2.FONT_HERSHEY_SIMPLEX, 1, (0, 0, 255), 2)\n",
    "        for name in names_detected:\n",
    "            attendance(name)\n",
    "        cv2.imshow(\"camera\", frame)\n",
    "        if cv2.waitKey(1) == 32:\n",
    "            break\n",
    "cap.release()\n",
    "cv2.destroyAllWindows()"
   ]
  },
  {
   "cell_type": "code",
   "execution_count": null,
   "id": "95ff4006-b576-4c1b-b36d-af759953d553",
   "metadata": {},
   "outputs": [],
   "source": []
  }
 ],
 "metadata": {
  "kernelspec": {
   "display_name": "Python 3 (ipykernel)",
   "language": "python",
   "name": "python3"
  },
  "language_info": {
   "codemirror_mode": {
    "name": "ipython",
    "version": 3
   },
   "file_extension": ".py",
   "mimetype": "text/x-python",
   "name": "python",
   "nbconvert_exporter": "python",
   "pygments_lexer": "ipython3",
   "version": "3.11.2"
  }
 },
 "nbformat": 4,
 "nbformat_minor": 5
}
